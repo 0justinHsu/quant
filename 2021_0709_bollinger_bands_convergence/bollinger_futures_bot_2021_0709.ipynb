{
 "cells": [
  {
   "cell_type": "code",
   "execution_count": 1,
   "metadata": {},
   "outputs": [],
   "source": [
    "import pandas as pd\n",
    "import datetime as dt\n",
    "import matplotlib.pyplot as plt\n",
    "from binance_f import RequestClient\n",
    "from binance_f.model import *\n",
    "from binance_f.constant.test import *\n",
    "from binance_f.base.printobject import *\n",
    "import time\n",
    "import threading"
   ]
  },
  {
   "cell_type": "markdown",
   "metadata": {},
   "source": [
    "#### trading strategy reference: http://www.epchan.com/subscription/matlabexecution.pdf"
   ]
  },
  {
   "cell_type": "markdown",
   "metadata": {},
   "source": [
    "# setup your api_key and api_secret, and connect to binance future"
   ]
  },
  {
   "cell_type": "code",
   "execution_count": 2,
   "metadata": {},
   "outputs": [],
   "source": [
    "\n",
    "g_api_key = '' # binance api key\n",
    "g_api_secret = '' # binance api secret\n",
    "\n",
    "# connect to binance futures using api\n",
    "request_client = RequestClient(api_key=g_api_key, secret_key=g_api_secret)"
   ]
  },
  {
   "cell_type": "markdown",
   "metadata": {},
   "source": [
    "# function for return Bollinger's Band information"
   ]
  },
  {
   "cell_type": "code",
   "execution_count": 3,
   "metadata": {},
   "outputs": [],
   "source": [
    "def get_bollinger_information(g_api_key, g_secret_key,symbol_):\n",
    "    request_client = RequestClient(api_key=g_api_key, secret_key=g_secret_key)\n",
    "\n",
    "    result = request_client.get_candlestick_data(symbol=symbol_, interval=CandlestickInterval.DAY1, \n",
    "                                                 startTime=None, endTime=None, limit=20)\n",
    "    D = pd.DataFrame()\n",
    "    D['open_date_time'] = [dt.datetime.fromtimestamp((result[x].closeTime / 1000)-86400) for x in range(len(result))]\n",
    "    D['close'] = [result[x].close for x in range(len(result))]\n",
    "    D['low'] = [result[x].low for x in range(len(result))]\n",
    "    D['high'] = [result[x].high for x in range(len(result))]\n",
    "    D['c_l_h_mean'] = (D['close'].astype(float)+D['low'].astype(float)+D['high'].astype(float))/3\n",
    "    btc_df = D\n",
    "    btc_df['std'] = btc_df['c_l_h_mean'].rolling(20).std(ddof=0)\n",
    "    btc_df['MA'] = btc_df['c_l_h_mean'].rolling(20).mean()\n",
    "    btc_df['BOLU'] = btc_df['MA'] + 2*btc_df['std']\n",
    "    btc_df['BOLD'] = btc_df['MA'] - 2*btc_df['std']\n",
    "    #btc_df['open_date_time'] = pd.to_datetime(btc_df['open_date_time'].dt.date)\n",
    "    #btc_df['open_date_time'] = btc_df['open_date_time'].dt.strftime('%Y-%m-%d')\n",
    "\n",
    "    btc_df = btc_df.dropna()\n",
    "    return btc_df "
   ]
  },
  {
   "cell_type": "markdown",
   "metadata": {},
   "source": [
    "# function for our trading strategy"
   ]
  },
  {
   "cell_type": "code",
   "execution_count": 4,
   "metadata": {
    "scrolled": true
   },
   "outputs": [],
   "source": [
    "##\n",
    "run_flag = 1\n",
    "renew_frequency = 10\n",
    "\n",
    "def trading_bot(symbol_ = \"BTCUSDT\", leverage_ = 2, contract_amount = 0.001, lookback_ = 20, entryZ_ = 2, exitZ_ = 1 ):\n",
    "    \n",
    "    global run_flag\n",
    "    global renew_frequency\n",
    "    \n",
    "    now = dt.datetime.now()\n",
    "    dt_string = now.strftime(\"%Y-%d-%m %H:%M:%S\")\n",
    "    symbol_to_trade_futures = symbol_ ## \"BTCUSDT\"\n",
    "    ## accountName='U123456'\n",
    "\n",
    "    leverage_ratio = leverage_#2\n",
    "    numContract= contract_amount #0.001\n",
    "    lookback= lookback_  # Number of periods used to compute Bollinger band ex.20\n",
    "    entryZ= entryZ_ #2 # The distance between the upper and the lower band is 2*entryZ  ex. 2\n",
    "    exitZ= exitZ_ # Exit when price revert to 1 standard deviation from the mean ex.1\n",
    "\n",
    "\n",
    "    result = request_client.change_initial_leverage(symbol=symbol_to_trade_futures, leverage=leverage_ratio)# adjust the leverage ratio\n",
    "\n",
    "    \n",
    "\n",
    "    while run_flag == 1:\n",
    "\n",
    "        # check position \n",
    "        ## pos = ............\n",
    "        result_get_positions = request_client.get_position_v2()\n",
    "        temp_num = 0\n",
    "        for num, i in enumerate(result_get_positions):\n",
    "            if i.symbol == symbol_to_trade_futures:\n",
    "                temp_num = num\n",
    "                break\n",
    "        pos = result_get_positions[temp_num].positionAmt/numContract\n",
    "\n",
    "        # check price for every 60 seconds\n",
    "        ##time.sleep(60)\n",
    "        time.sleep(renew_frequency)\n",
    "        result = request_client.get_order_book(symbol = symbol_to_trade_futures, limit = 10)\n",
    "        #get askPrice \n",
    "        askPrice = float(result.asks[0].price)\n",
    "        #get bidPrice\n",
    "        bidPrice = float(result.bids[0].price)\n",
    "\n",
    "        #Calculate deviation of ask or bid price from moving average\n",
    "        temp = get_bollinger_information(g_api_key , g_api_secret, symbol_to_trade_futures)\n",
    "        mstd = temp['std'].to_list()[0]\n",
    "        ma = temp['MA'].to_list()[0]\n",
    "        zscoreAsk=(askPrice-ma)/mstd;\n",
    "        zscoreBid=(bidPrice-ma)/mstd;\n",
    "\n",
    "        print((ma+(2*mstd)),\", \",ma,\", \",(ma-(2*mstd)))\n",
    "\n",
    "        if (pos == 0) and (zscoreAsk < (-entryZ)): #entry only\n",
    "            #place order : market buy 1 numContract\n",
    "            result = request_client.post_order(symbol=symbol_to_trade_futures, side=OrderSide.BUY, ordertype=OrderType.MARKET, \n",
    "                                               quantity=numContract, stopPrice=None, closePosition=False)\n",
    "            PrintBasic.print_obj(result)\n",
    "            #update pos : pos=numContract\n",
    "        elif (pos < 0) and (zscoreAsk < (-entryZ)): #exit and entry\n",
    "            #place order : market buy 2 numContract\n",
    "            result = request_client.post_order(symbol=symbol_to_trade_futures, side=OrderSide.BUY, ordertype=OrderType.MARKET, \n",
    "                                               quantity= 2*numContract, stopPrice=None, closePosition=False)\n",
    "            PrintBasic.print_obj(result)\n",
    "            #update pos : pos=numContract\n",
    "        elif (pos < 0) and (zscoreAsk < -exitZ): #exit only\n",
    "            #place order : market buy 1 numContract\n",
    "            result = request_client.post_order(symbol=symbol_to_trade_futures, side=OrderSide.BUY, ordertype=OrderType.MARKET, \n",
    "                                               quantity=numContract, stopPrice=None, closePosition=False)\n",
    "            PrintBasic.print_obj(result)\n",
    "            #update pos : pos=0\n",
    "        elif (pos == 0) and (zscoreBid > entryZ): #entry only\n",
    "            #place order : market sell 1 numContract\n",
    "            result = request_client.post_order(symbol=symbol_to_trade_futures, side=OrderSide.SELL, ordertype=OrderType.MARKET, \n",
    "                                               quantity=numContract, stopPrice=None, closePosition=False)\n",
    "            PrintBasic.print_obj(result)\n",
    "            #update pos : pos=-numContract\n",
    "        elif (pos > 0) and (zscoreBid > entryZ): #exit and entry\n",
    "            #place order : market sell 2 numContract\n",
    "            result = request_client.post_order(symbol=symbol_to_trade_futures, side=OrderSide.SELL, ordertype=OrderType.MARKET, \n",
    "                                               quantity= 2*numContract, stopPrice=None, closePosition=False)\n",
    "            PrintBasic.print_obj(result)\n",
    "            #update pos : pos=-numContract\n",
    "        elif (pos > 0) and (zscoreBid > exitZ): #exit only\n",
    "            #place order : market sell 1 numContract\n",
    "            result = request_client.post_order(symbol=symbol_to_trade_futures, side=OrderSide.SELL, ordertype=OrderType.MARKET, \n",
    "                                               quantity=numContract, stopPrice=None, closePosition=False)\n",
    "            PrintBasic.print_obj(result)\n",
    "            #update pos : pos=0\n",
    "    print('finish running')\n",
    "    \n",
    "def stop_robot():\n",
    "    global run_flag\n",
    "    global renew_frequency\n",
    "    run_flag = 0\n",
    "    time.sleep(renew_frequency*(1.2))\n",
    "    run_flag = 1\n",
    "    \n"
   ]
  },
  {
   "cell_type": "markdown",
   "metadata": {},
   "source": [
    "# Run the robot"
   ]
  },
  {
   "cell_type": "code",
   "execution_count": null,
   "metadata": {},
   "outputs": [],
   "source": [
    "t = threading.Thread(target = trading_bot, args=(\"BTCUSDT\", 2, 0.001, 20, 2, 1 ))\n",
    "t.start()"
   ]
  },
  {
   "cell_type": "markdown",
   "metadata": {},
   "source": [
    "# Stop the robot"
   ]
  },
  {
   "cell_type": "code",
   "execution_count": null,
   "metadata": {},
   "outputs": [],
   "source": [
    "stop_robot()"
   ]
  }
 ],
 "metadata": {
  "kernelspec": {
   "display_name": "Python 3",
   "language": "python",
   "name": "python3"
  },
  "language_info": {
   "codemirror_mode": {
    "name": "ipython",
    "version": 3
   },
   "file_extension": ".py",
   "mimetype": "text/x-python",
   "name": "python",
   "nbconvert_exporter": "python",
   "pygments_lexer": "ipython3",
   "version": "3.8.3"
  }
 },
 "nbformat": 4,
 "nbformat_minor": 4
}
